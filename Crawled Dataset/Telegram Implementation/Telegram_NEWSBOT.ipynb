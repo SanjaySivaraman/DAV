{
  "nbformat": 4,
  "nbformat_minor": 0,
  "metadata": {
    "colab": {
      "name": "Telegram NEWSBOT.ipynb",
      "provenance": [],
      "collapsed_sections": []
    },
    "kernelspec": {
      "name": "python3",
      "display_name": "Python 3"
    }
  },
  "cells": [
    {
      "cell_type": "code",
      "metadata": {
        "id": "UE4uBjqtfS0p",
        "colab_type": "code",
        "colab": {}
      },
      "source": [
        "import requests as r\n",
        "import re\n",
        "from bs4 import BeautifulSoup as soup\n",
        "import time\n",
        "import pandas as pd\n",
        "database=[]\n",
        "preurl='sampleurl'"
      ],
      "execution_count": 77,
      "outputs": []
    },
    {
      "cell_type": "code",
      "metadata": {
        "id": "D2pdpjMwvE5K",
        "colab_type": "code",
        "colab": {}
      },
      "source": [
        "def send_message(header,time,place,state,story):\n",
        "  chat_id = '871014841'\n",
        "  api_key = '1098694743:AAH6S5LGU4aw1SI0_MLiyNyJ0Fuonx8AurE'\n",
        "  msg = 'HEADLINE :\\n{}\\n\\nTIME : {}\\nPLACE : {}\\nSECTION : {}\\n\\nSTORY :\\n{}\\n'.format(header,time,place,state,story)\n",
        "  telegram_url = 'https://api.telegram.org/bot{}/sendMessage?text={}&chat_id={}'.format(api_key,msg,chat_id)\n",
        "  telegram_response = r.get(telegram_url)\n",
        "  print('NEWS sent')"
      ],
      "execution_count": 78,
      "outputs": []
    },
    {
      "cell_type": "code",
      "metadata": {
        "id": "lPt8U6INMQQx",
        "colab_type": "code",
        "colab": {}
      },
      "source": [
        "def scrape(url,sname):\n",
        "  StateName=sname\n",
        "  LINK=[]\n",
        "  LINK.append(url)\n",
        "  regex = re.compile('.*content-body-.*')\n",
        "  CC=[regex]\n",
        "  fdata=[]\n",
        "  data=r.get(LINK[0])\n",
        "  page_data=soup(data.text,'html.parser')\n",
        "  Sectional=page_data.find('a',{'class':'section-name'}).text\n",
        "  Header=page_data.find('h1',{'class':'title'}).text\n",
        "  dp=page_data.find('div',{'class':'ut-container'})\n",
        "  pad=dp.find_all('span',{'class':'blue-color ksl-time-stamp'})\n",
        "  if(len(pad)==2): \n",
        "    Place=pad[0].text\n",
        "    Place = Place.replace(',', '')\n",
        "    Date=pad[1].text\n",
        "  elif(len(pad)==1):\n",
        "    Place='India'\n",
        "    Date=pad[0].text\n",
        "  Content=page_data.find('div',{'id':CC[0]}).text\n",
        "  column=[StateName,Date,Sectional,Place,Header,Content]\n",
        "  news=[]\n",
        "  for line in column:\n",
        "    news.append(line.strip().split('\\n'))\n",
        "  for k in range(0,len(news)):\n",
        "    temp=news[k][0]\n",
        "    fdata.append(temp)\n",
        "  send_message(fdata[4],fdata[1],fdata[3],fdata[2],fdata[5])\n",
        "  database.append(fdata)"
      ],
      "execution_count": 79,
      "outputs": []
    },
    {
      "cell_type": "code",
      "metadata": {
        "id": "jzpi5B6HfjN0",
        "colab_type": "code",
        "colab": {}
      },
      "source": [
        "def state():\n",
        "  statenamelist=['andhra-pradesh','karnataka','kerala','tamil-nadu','telangana','other-states']\n",
        "  for statename in statenamelist:\n",
        "    url='https://www.thehindu.com/news/national/'+ statename +'/'\n",
        "    #print(url)\n",
        "    data=r.get(url)\n",
        "    page_data=soup(data.text,'html.parser')\n",
        "    jis=page_data.find('div',{'class':'justIn-story'})\n",
        "    jis1=jis.find('a')\n",
        "    jisurl=jis1.get('href')\n",
        "    jist=jis1.text\n",
        "    jist=jist.replace('\\n', ' ')\n",
        "    jist=jist.upper()\n",
        "    jist=jist.strip().split(' ')\n",
        "    keywords=['COVID-19','CORONAVIRUS','QUARANTINE','LOCKDOWN','CORONA','']\n",
        "    flag=0\n",
        "    for i in jist:\n",
        "      for j in keywords:\n",
        "        if(i==j and flag==0):\n",
        "          flag=1\n",
        "          try:\n",
        "            scrape(jisurl,statename)\n",
        "          except:\n",
        "            print('ERROR\\n')\n",
        "    if (flag==0):\n",
        "      print('Not a COVID-19 News in ' + statename)\n",
        "    else :\n",
        "      print(data)"
      ],
      "execution_count": 80,
      "outputs": []
    },
    {
      "cell_type": "code",
      "metadata": {
        "id": "Tbm4vPsK9Kys",
        "colab_type": "code",
        "colab": {
          "base_uri": "https://localhost:8080/",
          "height": 207
        },
        "outputId": "90a28edb-6cc1-4fc5-ef9b-2696fd9554c3"
      },
      "source": [
        "state()\n",
        "df=pd.DataFrame(database)\n",
        "#df"
      ],
      "execution_count": 81,
      "outputs": [
        {
          "output_type": "stream",
          "text": [
            "NEWS sent\n",
            "<Response [200]>\n",
            "NEWS sent\n",
            "<Response [200]>\n",
            "Not a COVID-19 News in kerala\n",
            "NEWS sent\n",
            "<Response [200]>\n",
            "NEWS sent\n",
            "<Response [200]>\n",
            "NEWS sent\n",
            "<Response [200]>\n"
          ],
          "name": "stdout"
        }
      ]
    },
    {
      "cell_type": "code",
      "metadata": {
        "id": "nBwvkI39IgtH",
        "colab_type": "code",
        "colab": {}
      },
      "source": [
        ""
      ],
      "execution_count": null,
      "outputs": []
    }
  ]
}